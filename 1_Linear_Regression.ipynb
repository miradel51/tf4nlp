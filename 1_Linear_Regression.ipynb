{
 "cells": [
  {
   "cell_type": "markdown",
   "metadata": {},
   "source": [
    "## 1. Hello World!\n",
    "- TF installed\n",
    "- Create a constant\n",
    "- Create a session\n",
    "- Use the session to run some computation"
   ]
  },
  {
   "cell_type": "code",
   "execution_count": 19,
   "metadata": {
    "collapsed": false
   },
   "outputs": [
    {
     "name": "stdout",
     "output_type": "stream",
     "text": [
      "Hello, TensorFlow!\n"
     ]
    }
   ],
   "source": [
    "import tensorflow as tf\n",
    "# Build a graph\n",
    "hello = tf.constant('Hello, TensorFlow!')\n",
    "# Launch the graph in a session\n",
    "# A Session object encapsulates the env in which \n",
    "# Operation objects are executed and Tensor objects are evaluated\n",
    "with tf.Session() as sess:\n",
    "    # Evaluate the tensor `hello`\n",
    "    print(sess.run(hello))"
   ]
  },
  {
   "cell_type": "markdown",
   "metadata": {},
   "source": [
    "## 2. Linear Regression"
   ]
  },
  {
   "cell_type": "markdown",
   "metadata": {
    "collapsed": true
   },
   "source": [
    "### 2.1 Create input data\n",
    "TODO: meaningful examples for x_data and y_data\n",
    "http://www.stat.yale.edu/Courses/1997-98/101/linreg.htm"
   ]
  },
  {
   "cell_type": "code",
   "execution_count": 25,
   "metadata": {
    "collapsed": false
   },
   "outputs": [
    {
     "data": {
      "text/plain": [
       "[<matplotlib.lines.Line2D at 0x7fb1a1fb3e90>]"
      ]
     },
     "execution_count": 25,
     "metadata": {},
     "output_type": "execute_result"
    },
    {
     "data": {
      "image/png": "[encoded data removed]",
      "text/plain": [
       "<matplotlib.figure.Figure at 0x7fb1c04d2590>"
      ]
     },
     "metadata": {},
     "output_type": "display_data"
    }
   ],
   "source": [
    "import numpy as np\n",
    "import matplotlib.pyplot as plt\n",
    "%matplotlib inline\n",
    "\n",
    "# Create input data using NumPy: y = x * 0.1 + 0.3 + noise\n",
    "x_data = np.random.rand(100).astype(np.float32)\n",
    "noise = np.random.normal(scale=0.01, size=len(x_data))\n",
    "y_data = x_data * 0.1 + 0.3 + noise\n",
    "\n",
    "# Plot input data.\n",
    "plt.plot(x_data, y_data, '.')"
   ]
  },
  {
   "cell_type": "markdown",
   "metadata": {},
   "source": [
    "### 2.1 Perform linear regression with Tensorflow"
   ]
  },
  {
   "cell_type": "code",
   "execution_count": 21,
   "metadata": {
    "collapsed": false
   },
   "outputs": [],
   "source": [
    "# Step 1a: Build inference graph \n",
    "# Create variables w and b that compute y_data = w * x_data + b\n",
    "# Generate tensors with shape [1] and values in range [0.0, 1.0] with a uniform distribution\n",
    "w = tf.Variable(tf.random_uniform([1], 0.0, 1.0), name=\"weights\") \n",
    "# Create a tensor with shape [1] and all elements set to zero\n",
    "b = tf.Variable(tf.zeros([1]), name=\"biases\")\n",
    "y = w * x_data + b"
   ]
  },
  {
   "cell_type": "code",
   "execution_count": 22,
   "metadata": {
    "collapsed": true
   },
   "outputs": [],
   "source": [
    "# Step 1b: Build training graph\n",
    "# Create an op that calculates loss\n",
    "loss = tf.reduce_mean(tf.square(y - y_data))  \n",
    "# Create an optimizer with learning_rate=0.5\n",
    "optimizer = tf.train.AdamOptimizer(0.5)  \n",
    "# Create an op that minimizes loss\n",
    "train = optimizer.minimize(loss)  \n",
    "# Create an op initializes all the variables\n",
    "init = tf.initialize_all_variables()  "
   ]
  },
  {
   "cell_type": "code",
   "execution_count": 26,
   "metadata": {
    "collapsed": false
   },
   "outputs": [
    {
     "name": "stdout",
     "output_type": "stream",
     "text": [
      "('Step:', 0, 'w:', array([ 0.21976629], dtype=float32), 'b:', array([-0.49999261], dtype=float32))\n",
      "('Step:', 50, 'w:', array([ 0.11565504], dtype=float32), 'b:', array([ 0.26345021], dtype=float32))\n",
      "('Step:', 100, 'w:', array([ 0.09827857], dtype=float32), 'b:', array([ 0.30526069], dtype=float32))\n",
      "('Step:', 150, 'w:', array([ 0.09839976], dtype=float32), 'b:', array([ 0.30114812], dtype=float32))\n",
      "('Step:', 200, 'w:', array([ 0.09834687], dtype=float32), 'b:', array([ 0.30144808], dtype=float32))\n"
     ]
    }
   ],
   "source": [
    "# Step 2: Create a session, launch the graph and perform traning\n",
    "with tf.Session() as sess:\n",
    "    sess.run(init) # Execute the op `init`\n",
    "    # Save initial values of y for plotting\n",
    "    y_initial = sess.run(y) # Evaluate the tensor `y` \n",
    "    \n",
    "    for step in range(201):\n",
    "        sess.run(train) # Execute the op `train`         \n",
    "        if step % 50 == 0:\n",
    "            print('Step:', step, 'w:', sess.run(w), 'b:', sess.run(b))\n",
    "    \n",
    "    # Save predicted values of y for plotting\n",
    "    y_predicted = sess.run(y)"
   ]
  },
  {
   "cell_type": "markdown",
   "metadata": {},
   "source": [
    "### 2.3 Visualize the result"
   ]
  },
  {
   "cell_type": "code",
   "execution_count": 24,
   "metadata": {
    "collapsed": false
   },
   "outputs": [
    {
     "data": {
      "text/plain": [
       "<matplotlib.legend.Legend at 0x7fb1c04c1d10>"
      ]
     },
     "execution_count": 24,
     "metadata": {},
     "output_type": "execute_result"
    },
    {
     "data": {
      "image/png": "[encoded data removed]",
      "text/plain": [
       "<matplotlib.figure.Figure at 0x7fb1c0161450>"
      ]
     },
     "metadata": {},
     "output_type": "display_data"
    }
   ],
   "source": [
    "plt.plot(x_data, y_data, '.', label=\"actual y\")\n",
    "plt.plot(x_data, y_initial, \".\", label=\"initial y\")\n",
    "plt.plot(x_data, y_predicted, \".\", label=\"predicted y\")\n",
    "plt.ylim(0, 1.0)\n",
    "plt.legend()"
   ]
  },
  {
   "cell_type": "markdown",
   "metadata": {},
   "source": [
    "## References\n",
    "- https://github.com/sherrym/tf-tutorial"
   ]
  }
 ],
 "metadata": {
  "kernelspec": {
   "display_name": "Python 2",
   "language": "python",
   "name": "python2"
  },
  "language_info": {
   "codemirror_mode": {
    "name": "ipython",
    "version": 2
   },
   "file_extension": ".py",
   "mimetype": "text/x-python",
   "name": "python",
   "nbconvert_exporter": "python",
   "pygments_lexer": "ipython2",
   "version": "2.7.12"
  }
 },
 "nbformat": 4,
 "nbformat_minor": 1
}
